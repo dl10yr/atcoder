{
 "cells": [
  {
   "cell_type": "code",
   "execution_count": null,
   "metadata": {},
   "outputs": [],
   "source": [
    "input_case = 1\n",
    "with open('./input.txt') as file:\n",
    "    input_lines = file.read().split('\\n\\n')[input_case - 1].split('\\n')\n",
    "def input(): return input_lines.pop(0)"
   ]
  },
  {
   "cell_type": "code",
   "execution_count": null,
   "id": "90ba4e52",
   "metadata": {},
   "outputs": [],
   "source": []
  }
 ],
 "metadata": {
  "kernelspec": {
   "display_name": "Python 3 (ipykernel)",
   "language": "python",
   "name": "python3"
  }
 },
 "nbformat": 4,
 "nbformat_minor": 5
}

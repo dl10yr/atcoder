{
 "cells": [
  {
   "cell_type": "code",
   "execution_count": 2,
   "metadata": {},
   "outputs": [
    {
     "data": {
      "application/vnd.jupyter.widget-view+json": {
       "model_id": "e584c74d11db43d6b04d4bf49608fb01",
       "version_major": 2,
       "version_minor": 0
      },
      "text/plain": [
       "Textarea(value='')"
      ]
     },
     "metadata": {},
     "output_type": "display_data"
    }
   ],
   "source": [
    "from ipywidgets import Textarea\n",
    "\n",
    "def get_input(change):\n",
    "    global Input\n",
    "    Input = change[\"new\"]\n",
    "\n",
    "textarea = Textarea()\n",
    "textarea.observe(get_input, names='value')\n",
    "display(textarea)"
   ]
  },
  {
   "cell_type": "code",
   "execution_count": 46,
   "metadata": {},
   "outputs": [
    {
     "name": "stdout",
     "output_type": "stream",
     "text": [
      "3\n"
     ]
    }
   ],
   "source": [
    "IN = iter(Input.split('\\n')).__next__\n",
    "def input():\n",
    "    return IN()\n",
    "\n",
    "import itertools\n",
    "\n",
    "n = int(input())\n",
    "a = [list(map(int, input().split())) for i in range(n)]\n",
    "m = int(input())\n",
    "\n",
    "funaka = [[False for i in range(n)] for j in range(n)]\n",
    "\n",
    "for i in range(m):\n",
    "    x, y = map(int, input().split())\n",
    "    funaka[x-1][y-1] = True\n",
    "    funaka[y-1][x-1]  = True\n",
    "\n",
    "    \n",
    "ans = 10 ** 18\n",
    "for p in itertools.permutations(range(n)):\n",
    "    tmp = a[p[0]][0]\n",
    "    is_nakayoshi = True\n",
    "    for i in range(n-1):\n",
    "        tmp += a[p[i+1]][i+1]\n",
    "        if funaka[p[i]][p[i+1]] == True:\n",
    "            is_nakayoshi = False\n",
    "            break\n",
    "    if is_nakayoshi:\n",
    "        ans = min(ans, tmp)\n",
    "\n",
    "if ans == 10 ** 18:\n",
    "    print(-1)\n",
    "else:\n",
    "    print(ans)"
   ]
  },
  {
   "cell_type": "code",
   "execution_count": 17,
   "metadata": {},
   "outputs": [
    {
     "name": "stdout",
     "output_type": "stream",
     "text": [
      "1\n"
     ]
    },
    {
     "ename": "ValueError",
     "evalue": "invalid literal for int() with base 10: ''",
     "output_type": "error",
     "traceback": [
      "\u001b[0;31m---------------------------------------------------------------------------\u001b[0m",
      "\u001b[0;31mValueError\u001b[0m                                Traceback (most recent call last)",
      "Input \u001b[0;32mIn [17]\u001b[0m, in \u001b[0;36m<cell line: 5>\u001b[0;34m()\u001b[0m\n\u001b[1;32m      2\u001b[0m \u001b[38;5;28mprint\u001b[39m(\u001b[38;5;28mabs\u001b[39m(\u001b[38;5;241m3\u001b[39m\u001b[38;5;241m-\u001b[39m\u001b[38;5;241m2\u001b[39m))\n\u001b[1;32m      4\u001b[0m \u001b[38;5;66;03m# n\u001b[39;00m\n\u001b[0;32m----> 5\u001b[0m n \u001b[38;5;241m=\u001b[39m \u001b[38;5;28;43mint\u001b[39;49m\u001b[43m(\u001b[49m\u001b[38;5;28;43minput\u001b[39;49m\u001b[43m(\u001b[49m\u001b[43m)\u001b[49m\u001b[43m)\u001b[49m\n\u001b[1;32m      6\u001b[0m n, k \u001b[38;5;241m=\u001b[39m \u001b[38;5;28mmap\u001b[39m(\u001b[38;5;28mint\u001b[39m, \u001b[38;5;28minput\u001b[39m()\u001b[38;5;241m.\u001b[39msplit())\n\u001b[1;32m      8\u001b[0m \u001b[38;5;66;03m#a1, a2, ..., an\u001b[39;00m\n",
      "\u001b[0;31mValueError\u001b[0m: invalid literal for int() with base 10: ''"
     ]
    }
   ],
   "source": [
    "### 入力\n",
    "\n",
    "# n\n",
    "n = int(input())\n",
    "n, k = map(int, input().split())\n",
    "\n",
    "#a1, a2, ..., an\n",
    "a_s = list(map(int, input().split()))\n",
    "\n",
    "\n",
    "## 使う関数\n",
    "\n",
    "### 絶対値\n",
    "abs()\n"
   ]
  },
  {
   "cell_type": "code",
   "execution_count": 4,
   "metadata": {},
   "outputs": [
    {
     "ename": "StopIteration",
     "evalue": "",
     "output_type": "error",
     "traceback": [
      "\u001b[0;31m---------------------------------------------------------------------------\u001b[0m",
      "\u001b[0;31mStopIteration\u001b[0m                             Traceback (most recent call last)",
      "Input \u001b[0;32mIn [4]\u001b[0m, in \u001b[0;36m<cell line: 9>\u001b[0;34m()\u001b[0m\n\u001b[1;32m      8\u001b[0m txy \u001b[38;5;241m=\u001b[39m []\n\u001b[1;32m      9\u001b[0m \u001b[38;5;28;01mfor\u001b[39;00m i \u001b[38;5;129;01min\u001b[39;00m \u001b[38;5;28mrange\u001b[39m(n):\n\u001b[0;32m---> 10\u001b[0m   txy\u001b[38;5;241m.\u001b[39mappend(\u001b[38;5;28mlist\u001b[39m(\u001b[38;5;28mmap\u001b[39m(\u001b[38;5;28mint\u001b[39m, \u001b[38;5;28;43minput\u001b[39;49m\u001b[43m(\u001b[49m\u001b[43m)\u001b[49m\u001b[38;5;241m.\u001b[39msplit())))\n\u001b[1;32m     12\u001b[0m \u001b[38;5;28mprint\u001b[39m(txy[\u001b[38;5;241m0\u001b[39m])\n",
      "Input \u001b[0;32mIn [4]\u001b[0m, in \u001b[0;36minput\u001b[0;34m()\u001b[0m\n\u001b[1;32m      2\u001b[0m \u001b[38;5;28;01mdef\u001b[39;00m \u001b[38;5;21minput\u001b[39m():\n\u001b[0;32m----> 3\u001b[0m     \u001b[38;5;28;01mreturn\u001b[39;00m \u001b[43mIN\u001b[49m\u001b[43m(\u001b[49m\u001b[43m)\u001b[49m\n",
      "\u001b[0;31mStopIteration\u001b[0m: "
     ]
    }
   ],
   "source": [
    "IN = iter(Input.split('\\n')).__next__\n",
    "def input():\n",
    "    return IN()\n",
    "\n",
    "n, q = map(int, input().split())\n",
    "a = list(map(int, input().split()))\n",
    "\n",
    "txy = []\n",
    "for i in range(n):\n",
    "    txy.append(list(map(int, input().split())))\n",
    "\n",
    "print(txy[0])"
   ]
  },
  {
   "cell_type": "code",
   "execution_count": 46,
   "metadata": {},
   "outputs": [
    {
     "data": {
      "text/plain": [
       "['1']"
      ]
     },
     "execution_count": 46,
     "metadata": {},
     "output_type": "execute_result"
    }
   ],
   "source": [
    "n = int(input())\n",
    "n, m, k, s, t, x= map(int, input().split())\n",
    "\n",
    "xy = [list(map(int, input().split())) for xy in range(n)]\n",
    "y = list(map(lambda aa: aa[1], xy))\n",
    "y = collections.Counter(y)    \n",
    "y_c = list(y.items())"
   ]
  },
  {
   "cell_type": "code",
   "execution_count": 22,
   "metadata": {},
   "outputs": [
    {
     "name": "stdout",
     "output_type": "stream",
     "text": [
      "25 4\n",
      "71 18\n",
      "195\n"
     ]
    }
   ],
   "source": [
    "IN = iter(Input.split('\\n')).__next__\n",
    "def input():\n",
    "    return IN()\n",
    "\n",
    "n = int(input())\n",
    "cnt_2 = 4\n",
    "cnt_all = 25\n",
    "if n == 1:\n",
    "    print(9)\n",
    "elif n == 2:\n",
    "    print(25)\n",
    "else:\n",
    "    for i in range(n-2):\n",
    "        cnt_all = 2 * (cnt_2) + 3 * (cnt_all - cnt_2)\n",
    "        cnt_2 = 2 * ( 2 * (cnt_2) + 1)\n",
    "print(cnt_all)"
   ]
  },
  {
   "cell_type": "code",
   "execution_count": 11,
   "metadata": {},
   "outputs": [
    {
     "data": {
      "text/plain": [
       "3"
      ]
     },
     "execution_count": 11,
     "metadata": {},
     "output_type": "execute_result"
    }
   ],
   "source": [
    "memo"
   ]
  },
  {
   "cell_type": "code",
   "execution_count": 8,
   "metadata": {},
   "outputs": [
    {
     "ename": "ValueError",
     "evalue": "invalid literal for int() with base 10: 'saxasx'",
     "output_type": "error",
     "traceback": [
      "\u001b[0;31m---------------------------------------------------------------------------\u001b[0m",
      "\u001b[0;31mValueError\u001b[0m                                Traceback (most recent call last)",
      "\u001b[0;32m<ipython-input-8-5255184ee991>\u001b[0m in \u001b[0;36m<module>\u001b[0;34m\u001b[0m\n\u001b[1;32m     13\u001b[0m \u001b[0;34m\u001b[0m\u001b[0m\n\u001b[1;32m     14\u001b[0m \u001b[0;34m\u001b[0m\u001b[0m\n\u001b[0;32m---> 15\u001b[0;31m \u001b[0mn\u001b[0m \u001b[0;34m=\u001b[0m \u001b[0mint\u001b[0m\u001b[0;34m(\u001b[0m\u001b[0minput\u001b[0m\u001b[0;34m(\u001b[0m\u001b[0;34m)\u001b[0m\u001b[0;34m)\u001b[0m\u001b[0;34m\u001b[0m\u001b[0;34m\u001b[0m\u001b[0m\n\u001b[0m\u001b[1;32m     16\u001b[0m \u001b[0mat\u001b[0m \u001b[0;34m=\u001b[0m \u001b[0;34m[\u001b[0m\u001b[0mlist\u001b[0m\u001b[0;34m(\u001b[0m\u001b[0mmap\u001b[0m\u001b[0;34m(\u001b[0m\u001b[0mint\u001b[0m\u001b[0;34m,\u001b[0m \u001b[0minput\u001b[0m\u001b[0;34m(\u001b[0m\u001b[0;34m)\u001b[0m\u001b[0;34m.\u001b[0m\u001b[0msplit\u001b[0m\u001b[0;34m(\u001b[0m\u001b[0;34m)\u001b[0m\u001b[0;34m)\u001b[0m\u001b[0;34m)\u001b[0m \u001b[0;32mfor\u001b[0m \u001b[0mat\u001b[0m \u001b[0;32min\u001b[0m \u001b[0mrange\u001b[0m\u001b[0;34m(\u001b[0m\u001b[0mn\u001b[0m\u001b[0;34m)\u001b[0m\u001b[0;34m]\u001b[0m\u001b[0;34m\u001b[0m\u001b[0;34m\u001b[0m\u001b[0m\n\u001b[1;32m     17\u001b[0m \u001b[0mq\u001b[0m \u001b[0;34m=\u001b[0m \u001b[0mint\u001b[0m\u001b[0;34m(\u001b[0m\u001b[0minput\u001b[0m\u001b[0;34m(\u001b[0m\u001b[0;34m)\u001b[0m\u001b[0;34m)\u001b[0m\u001b[0;34m\u001b[0m\u001b[0;34m\u001b[0m\u001b[0m\n",
      "\u001b[0;31mValueError\u001b[0m: invalid literal for int() with base 10: 'saxasx'"
     ]
    }
   ],
   "source": [
    "IN = iter(Input.split('\\n')).__next__\n",
    "def input():\n",
    "    return IN()\n",
    "\n",
    "\n",
    "def x_solve(x,a,t):\n",
    "    if t == 1:\n",
    "        return x + a\n",
    "    elif t == 2:\n",
    "        return max(x, a)\n",
    "    elif t == 3:\n",
    "        return min(x, a)\n",
    "    \n",
    "\n",
    "n = int(input())\n",
    "at = [list(map(int, input().split())) for at in range(n)]\n",
    "q = int(input())\n",
    "x = list(map(int, input().split()))\n",
    "\n",
    "\n",
    "for i in range(q):\n",
    "    x_0 = x[i]\n",
    "    for m in range(n):\n",
    "        x_0 = x_solve(x_0, at[m][0], at[m][1])\n",
    "    print(x_0)"
   ]
  },
  {
   "cell_type": "code",
   "execution_count": 18,
   "metadata": {},
   "outputs": [
    {
     "name": "stdout",
     "output_type": "stream",
     "text": [
      "{'test': 1}\n",
      "{'test': 1, '-15 -10 2': -10}\n",
      "{'test': 1, '-15 -10 2': -10, '-10 10 1': 0}\n",
      "0\n",
      "{'test': 1, '-15 -10 2': -10, '-10 10 1': 0, '0 10 3': 0}\n",
      "{'test': 1, '-15 -10 2': -10, '-10 10 1': 0, '0 10 3': 0, '-10 -10 2': -10}\n",
      "{'test': 1, '-15 -10 2': -10, '-10 10 1': 0, '0 10 3': 0, '-10 -10 2': -10}\n",
      "0\n",
      "{'test': 1, '-15 -10 2': -10, '-10 10 1': 0, '0 10 3': 0, '-10 -10 2': -10}\n",
      "{'test': 1, '-15 -10 2': -10, '-10 10 1': 0, '0 10 3': 0, '-10 -10 2': -10, '-5 -10 2': -5}\n",
      "{'test': 1, '-15 -10 2': -10, '-10 10 1': 0, '0 10 3': 0, '-10 -10 2': -10, '-5 -10 2': -5, '-5 10 1': 5}\n",
      "5\n",
      "{'test': 1, '-15 -10 2': -10, '-10 10 1': 0, '0 10 3': 0, '-10 -10 2': -10, '-5 -10 2': -5, '-5 10 1': 5, '5 10 3': 5}\n",
      "{'test': 1, '-15 -10 2': -10, '-10 10 1': 0, '0 10 3': 0, '-10 -10 2': -10, '-5 -10 2': -5, '-5 10 1': 5, '5 10 3': 5, '0 -10 2': 0}\n",
      "{'test': 1, '-15 -10 2': -10, '-10 10 1': 0, '0 10 3': 0, '-10 -10 2': -10, '-5 -10 2': -5, '-5 10 1': 5, '5 10 3': 5, '0 -10 2': 0, '0 10 1': 10}\n",
      "10\n",
      "{'test': 1, '-15 -10 2': -10, '-10 10 1': 0, '0 10 3': 0, '-10 -10 2': -10, '-5 -10 2': -5, '-5 10 1': 5, '5 10 3': 5, '0 -10 2': 0, '0 10 1': 10, '10 10 3': 10}\n",
      "{'test': 1, '-15 -10 2': -10, '-10 10 1': 0, '0 10 3': 0, '-10 -10 2': -10, '-5 -10 2': -5, '-5 10 1': 5, '5 10 3': 5, '0 -10 2': 0, '0 10 1': 10, '10 10 3': 10, '5 -10 2': 5}\n",
      "{'test': 1, '-15 -10 2': -10, '-10 10 1': 0, '0 10 3': 0, '-10 -10 2': -10, '-5 -10 2': -5, '-5 10 1': 5, '5 10 3': 5, '0 -10 2': 0, '0 10 1': 10, '10 10 3': 10, '5 -10 2': 5, '5 10 1': 15}\n",
      "10\n"
     ]
    }
   ],
   "source": [
    "IN = iter(Input.split('\\n')).__next__\n",
    "def input():\n",
    "    return IN()\n",
    "\n",
    "\n",
    "def x_solve(x,a,t):\n",
    "    memo_str = str(x)+' ' + str(a)+' ' + str(t)\n",
    "    if memo_str in d.keys():\n",
    "        return d[memo_str]\n",
    "    else:\n",
    "        if t == 1:\n",
    "            d[memo_str] = x + a\n",
    "            return d[memo_str]\n",
    "        elif t == 2:\n",
    "            d[memo_str] = max(x,a)\n",
    "            return d[memo_str]\n",
    "        elif t == 3:\n",
    "            d[memo_str] = min(x,a)\n",
    "            return d[memo_str]\n",
    "    \n",
    "\n",
    "n = int(input())\n",
    "at = [list(map(int, input().split())) for at in range(n)]\n",
    "q = int(input())\n",
    "x = list(map(int, input().split()))\n",
    "d = {'test': 1}\n",
    "\n",
    "for i in range(q):\n",
    "    x_0 = x[i]\n",
    "    for m in range(n):\n",
    "        x_0 = x_solve(x_0, at[m][0], at[m][1])\n",
    "    print(x_0)\n",
    "    \n",
    "\n",
    "    \n"
   ]
  },
  {
   "cell_type": "code",
   "execution_count": 53,
   "metadata": {},
   "outputs": [
    {
     "name": "stdout",
     "output_type": "stream",
     "text": [
      "99634\n"
     ]
    }
   ],
   "source": [
    "IN = iter(Input.split('\\n')).__next__\n",
    "def input():\n",
    "    return IN()\n",
    "\n",
    "import math\n",
    "\n",
    "# write codes\n",
    "n = int(input())\n",
    "num_list = []\n",
    "\n",
    "sqr = math.sqrt(n)\n",
    "sqr = math.floor(sqr)\n",
    "for i in range(2, sqr):\n",
    "    for m in range(2, 40):\n",
    "        reu = math.pow(i, m)\n",
    "        if reu > n:\n",
    "            break\n",
    "        else:\n",
    "            num_list.append(int(reu))\n",
    "\n",
    "num_list_uniu = list(set(num_list))\n",
    "print(n - len(num_list_uniu) - 1)"
   ]
  },
  {
   "cell_type": "code",
   "execution_count": 1,
   "metadata": {},
   "outputs": [
    {
     "name": "stdout",
     "output_type": "stream",
     "text": [
      "\n"
     ]
    },
    {
     "ename": "ValueError",
     "evalue": "invalid literal for int() with base 10: ''",
     "output_type": "error",
     "traceback": [
      "\u001b[0;31m---------------------------------------------------------------------------\u001b[0m",
      "\u001b[0;31mValueError\u001b[0m                                Traceback (most recent call last)",
      "\u001b[0;32m<ipython-input-1-5ad510bb01dc>\u001b[0m in \u001b[0;36m<module>\u001b[0;34m\u001b[0m\n\u001b[1;32m      1\u001b[0m \u001b[0;31m# -*- coding: utf-8 -*-\u001b[0m\u001b[0;34m\u001b[0m\u001b[0;34m\u001b[0m\u001b[0;34m\u001b[0m\u001b[0m\n\u001b[1;32m      2\u001b[0m \u001b[0;31m# 整数の入力\u001b[0m\u001b[0;34m\u001b[0m\u001b[0;34m\u001b[0m\u001b[0;34m\u001b[0m\u001b[0m\n\u001b[0;32m----> 3\u001b[0;31m \u001b[0ma\u001b[0m \u001b[0;34m=\u001b[0m \u001b[0mint\u001b[0m\u001b[0;34m(\u001b[0m\u001b[0minput\u001b[0m\u001b[0;34m(\u001b[0m\u001b[0;34m)\u001b[0m\u001b[0;34m)\u001b[0m\u001b[0;34m\u001b[0m\u001b[0;34m\u001b[0m\u001b[0m\n\u001b[0m\u001b[1;32m      4\u001b[0m \u001b[0;31m# スペース区切りの整数の入力\u001b[0m\u001b[0;34m\u001b[0m\u001b[0;34m\u001b[0m\u001b[0;34m\u001b[0m\u001b[0m\n\u001b[1;32m      5\u001b[0m \u001b[0mb\u001b[0m\u001b[0;34m,\u001b[0m \u001b[0mc\u001b[0m \u001b[0;34m=\u001b[0m \u001b[0mmap\u001b[0m\u001b[0;34m(\u001b[0m\u001b[0mint\u001b[0m\u001b[0;34m,\u001b[0m \u001b[0minput\u001b[0m\u001b[0;34m(\u001b[0m\u001b[0;34m)\u001b[0m\u001b[0;34m.\u001b[0m\u001b[0msplit\u001b[0m\u001b[0;34m(\u001b[0m\u001b[0;34m)\u001b[0m\u001b[0;34m)\u001b[0m\u001b[0;34m\u001b[0m\u001b[0;34m\u001b[0m\u001b[0m\n",
      "\u001b[0;31mValueError\u001b[0m: invalid literal for int() with base 10: ''"
     ]
    }
   ],
   "source": [
    "# -*- coding: utf-8 -*-\n",
    "# 整数の入力\n",
    "a = int(input())\n",
    "# スペース区切りの整数の入力\n",
    "b, c = map(int, input().split())\n",
    "# 文字列の入力\n",
    "s = input()\n",
    "# 出力\n",
    "print(\"{} {}\".format(a+b+c, s))"
   ]
  },
  {
   "cell_type": "code",
   "execution_count": 3,
   "metadata": {},
   "outputs": [
    {
     "name": "stdout",
     "output_type": "stream",
     "text": [
      "1\n",
      "2 3\n",
      "r\n",
      "6 r\n"
     ]
    }
   ],
   "source": [
    "a = int(input())\n",
    "b, c= map(int, input().split())\n",
    "s = input()\n",
    "\n",
    "print(a+b+c, s)\n"
   ]
  },
  {
   "cell_type": "code",
   "execution_count": 6,
   "metadata": {},
   "outputs": [
    {
     "name": "stdout",
     "output_type": "stream",
     "text": [
      "3 5\n",
      "Odd\n"
     ]
    }
   ],
   "source": [
    "b, c= map(int, input().split())\n",
    "print('Odd') if b*c % 2 != 0 else print('Even')\n"
   ]
  },
  {
   "cell_type": "code",
   "execution_count": 10,
   "metadata": {},
   "outputs": [
    {
     "name": "stdout",
     "output_type": "stream",
     "text": [
      "101\n",
      "2\n"
     ]
    }
   ],
   "source": [
    "a = input()\n",
    "print(a.count('1'))\n"
   ]
  },
  {
   "cell_type": "code",
   "execution_count": 7,
   "metadata": {},
   "outputs": [
    {
     "ename": "StopIteration",
     "evalue": "",
     "output_type": "error",
     "traceback": [
      "\u001b[0;31m---------------------------------------------------------------------------\u001b[0m",
      "\u001b[0;31mStopIteration\u001b[0m                             Traceback (most recent call last)",
      "\u001b[0;32m<ipython-input-7-c8553be0ef79>\u001b[0m in \u001b[0;36m<module>\u001b[0;34m\u001b[0m\n\u001b[0;32m----> 1\u001b[0;31m \u001b[0mn\u001b[0m \u001b[0;34m=\u001b[0m \u001b[0minput\u001b[0m\u001b[0;34m(\u001b[0m\u001b[0;34m)\u001b[0m\u001b[0;34m\u001b[0m\u001b[0;34m\u001b[0m\u001b[0m\n\u001b[0m\u001b[1;32m      2\u001b[0m \u001b[0ma\u001b[0m \u001b[0;34m=\u001b[0m \u001b[0mmap\u001b[0m\u001b[0;34m(\u001b[0m\u001b[0mint\u001b[0m\u001b[0;34m,\u001b[0m \u001b[0minput\u001b[0m\u001b[0;34m(\u001b[0m\u001b[0;34m)\u001b[0m\u001b[0;34m.\u001b[0m\u001b[0msplit\u001b[0m\u001b[0;34m(\u001b[0m\u001b[0;34m)\u001b[0m\u001b[0;34m)\u001b[0m\u001b[0;34m\u001b[0m\u001b[0;34m\u001b[0m\u001b[0m\n",
      "\u001b[0;32m<ipython-input-6-62ddd76eda4c>\u001b[0m in \u001b[0;36minput\u001b[0;34m()\u001b[0m\n\u001b[1;32m      1\u001b[0m \u001b[0mIN\u001b[0m \u001b[0;34m=\u001b[0m \u001b[0miter\u001b[0m\u001b[0;34m(\u001b[0m\u001b[0mInput\u001b[0m\u001b[0;34m.\u001b[0m\u001b[0msplit\u001b[0m\u001b[0;34m(\u001b[0m\u001b[0;34m'\\n'\u001b[0m\u001b[0;34m)\u001b[0m\u001b[0;34m)\u001b[0m\u001b[0;34m.\u001b[0m\u001b[0m__next__\u001b[0m\u001b[0;34m\u001b[0m\u001b[0;34m\u001b[0m\u001b[0m\n\u001b[1;32m      2\u001b[0m \u001b[0;32mdef\u001b[0m \u001b[0minput\u001b[0m\u001b[0;34m(\u001b[0m\u001b[0;34m)\u001b[0m\u001b[0;34m:\u001b[0m\u001b[0;34m\u001b[0m\u001b[0;34m\u001b[0m\u001b[0m\n\u001b[0;32m----> 3\u001b[0;31m     \u001b[0;32mreturn\u001b[0m \u001b[0mIN\u001b[0m\u001b[0;34m(\u001b[0m\u001b[0;34m)\u001b[0m\u001b[0;34m\u001b[0m\u001b[0;34m\u001b[0m\u001b[0m\n\u001b[0m\u001b[1;32m      4\u001b[0m \u001b[0;34m\u001b[0m\u001b[0m\n\u001b[1;32m      5\u001b[0m \u001b[0;34m\u001b[0m\u001b[0m\n",
      "\u001b[0;31mStopIteration\u001b[0m: "
     ]
    }
   ],
   "source": [
    "n = input()\n",
    "a = input().split()\n",
    "a = list(map(int, a))"
   ]
  },
  {
   "cell_type": "code",
   "execution_count": null,
   "metadata": {},
   "outputs": [],
   "source": []
  }
 ],
 "metadata": {
  "kernelspec": {
   "display_name": "Python 3 (ipykernel)",
   "language": "python",
   "name": "python3"
  },
  "language_info": {
   "codemirror_mode": {
    "name": "ipython",
    "version": 3
   },
   "file_extension": ".py",
   "mimetype": "text/x-python",
   "name": "python",
   "nbconvert_exporter": "python",
   "pygments_lexer": "ipython3",
   "version": "3.9.13"
  },
  "vscode": {
   "interpreter": {
    "hash": "5242a6ce3443539a520f59169fd9e7d496e5718701bfddea9b2895b875dc62c5"
   }
  }
 },
 "nbformat": 4,
 "nbformat_minor": 4
}
